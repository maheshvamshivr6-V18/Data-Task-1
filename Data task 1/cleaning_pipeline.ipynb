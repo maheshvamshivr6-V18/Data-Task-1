{
 "cells": [
  {
   "cell_type": "markdown",
   "id": "18f0985c",
   "metadata": {},
   "source": [
    "# Cleaning Pipeline Notebook\n",
    "This notebook performs the cleaning steps described in README."
   ]
  },
  {
   "cell_type": "code",
   "execution_count": null,
   "id": "30ba58d8",
   "metadata": {},
   "outputs": [],
   "source": [
    "import pandas as pd\n",
    "\n",
    "raw = 'raw_customer_personality.csv'\n",
    "df = pd.read_csv(raw)\n",
    "df.head()"
   ]
  },
  {
   "cell_type": "code",
   "execution_count": null,
   "id": "8952d591",
   "metadata": {},
   "outputs": [],
   "source": [
    "\n",
    "!python3 cleaning_pipeline.py\n"
   ]
  },
  {
   "cell_type": "code",
   "execution_count": null,
   "id": "17055633",
   "metadata": {},
   "outputs": [],
   "source": [
    "print('Saved cleaned_customer_personality.csv')\n",
    "pd.read_csv('cleaned_customer_personality.csv').head()"
   ]
  }
 ],
 "metadata": {
  "language_info": {
   "name": "python"
  }
 },
 "nbformat": 4,
 "nbformat_minor": 5
}
